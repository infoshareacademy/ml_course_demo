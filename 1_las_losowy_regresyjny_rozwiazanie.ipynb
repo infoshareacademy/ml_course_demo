{
 "cells": [
  {
   "cell_type": "code",
   "execution_count": null,
   "metadata": {},
   "outputs": [],
   "source": [
    "from  sklearn.ensemble import RandomForestRegressor\n",
    "import pandas as pd\n",
    "import matplotlib.pyplot as plt\n",
    "from sklearn.tree import plot_tree"
   ]
  },
  {
   "cell_type": "code",
   "execution_count": null,
   "metadata": {},
   "outputs": [],
   "source": [
    "# Załadowanie danych\n",
    "train_x = pd.read_csv('flights_prices/X_train.csv')\n",
    "train_y = pd.read_csv('flights_prices/y_train.csv')\n",
    "test_x = pd.read_csv('flights_prices/X_test.csv')\n",
    "test_y = pd.read_csv('flights_prices/y_test.csv')"
   ]
  },
  {
   "cell_type": "code",
   "execution_count": null,
   "metadata": {},
   "outputs": [],
   "source": [
    "# nagłówek\n",
    "train_x.head()\n"
   ]
  },
  {
   "cell_type": "code",
   "execution_count": null,
   "metadata": {},
   "outputs": [],
   "source": [
    "# opis zmiennych\n",
    "train_x.describe()"
   ]
  },
  {
   "cell_type": "code",
   "execution_count": null,
   "metadata": {},
   "outputs": [],
   "source": [
    "x_names  =list(train_x.select_dtypes(exclude='object').columns[1:])\n",
    "x_names"
   ]
  },
  {
   "cell_type": "code",
   "execution_count": null,
   "metadata": {},
   "outputs": [],
   "source": [
    "# Model\n",
    "model = RandomForestRegressor(max_depth=5, n_estimators=250, min_samples_leaf=5).fit(train_x, train_y['price'])"
   ]
  },
  {
   "cell_type": "code",
   "execution_count": null,
   "metadata": {},
   "outputs": [],
   "source": [
    "# wyciągnięcie jednego drzewa\n",
    "model_1 = model.estimators_[2]"
   ]
  },
  {
   "cell_type": "code",
   "execution_count": null,
   "metadata": {},
   "outputs": [],
   "source": [
    "plt.figure(figsize=(12,6))\n",
    "plot_tree(decision_tree=...,\n",
    "          filled=True,\n",
    "          feature_names=model.feature_names_in_,\n",
    "          max_depth=2,\n",
    "          fontsize=8)\n",
    "plt.show()"
   ]
  },
  {
   "cell_type": "code",
   "execution_count": null,
   "metadata": {},
   "outputs": [],
   "source": [
    "# Ważność zmiennych\n",
    "importances = pd.DataFrame(columns=['name','importance'])\n",
    "importances['name'] = model.feature_names_in_\n",
    "importances['importance'] = model.feature_importances_\n",
    "importances = importances.sort_values(by='importance',ascending = False)\n"
   ]
  },
  {
   "cell_type": "code",
   "execution_count": null,
   "metadata": {},
   "outputs": [],
   "source": [
    "plt.figure(figsize=(8,6))\n",
    "plt.barh(importances['name'], importances['importance'])\n",
    "plt.title('Ważność zmiennych w modelu')\n",
    "plt.show()"
   ]
  },
  {
   "cell_type": "code",
   "execution_count": null,
   "metadata": {},
   "outputs": [],
   "source": [
    "# R2 train\n",
    "model.score(train_x,train_y['price'])"
   ]
  },
  {
   "cell_type": "code",
   "execution_count": null,
   "metadata": {},
   "outputs": [],
   "source": [
    "# R2 test\n",
    "model.score(test_x, test_y['price'])\n"
   ]
  },
  {
   "cell_type": "code",
   "execution_count": null,
   "metadata": {},
   "outputs": [],
   "source": [
    "# Predykcja na zbiorze testowym\n",
    "test_pred = model.predict(test_x[x_names])"
   ]
  },
  {
   "cell_type": "code",
   "execution_count": null,
   "metadata": {},
   "outputs": [],
   "source": [
    "# Wykres rozrzutu\n",
    "plt.scatter(test_pred,test_y['price'])\n",
    "plt.plot(np.arange(0,test_y['price'].max()+10),np.arange(0,test_y['price'].max()+10),color='red')\n",
    "plt.title('Porównanie predykcji do wartości rzeczywitych')\n",
    "plt.xlabel('Predykcja')\n",
    "plt.ylabel('Wartość rzeczywista')\n",
    "plt.show()"
   ]
  },
  {
   "cell_type": "code",
   "execution_count": null,
   "metadata": {},
   "outputs": [],
   "source": [
    "prediction_prepare = pd.DataFrame(columns=model.feature_names_in_)\n",
    "prediction_prepare.loc[0,:] = 0\n"
   ]
  },
  {
   "cell_type": "code",
   "execution_count": null,
   "metadata": {},
   "outputs": [],
   "source": [
    "# Określenie zmiennych\n",
    "prediction_prepare['duration'] = 11.74\n",
    "prediction_prepare['arrival_time_Evening'] = 1\n",
    "prediction_prepare['is_zero_stops'] = 1\n",
    "prediction_prepare['departure_time_Evening'] = 1\n",
    "prediction_prepare['arrival_time_Evening'] = 1\n",
    "prediction_prepare['is_vistara'] = 1"
   ]
  },
  {
   "cell_type": "code",
   "execution_count": null,
   "metadata": {},
   "outputs": [],
   "source": [
    "# Cena biletu w zależności od liczby dni do lotu\n",
    "preds = []\n",
    "for i in range(1,30):\n",
    "    prediction_prepare['days_left']= i\n",
    "    preds.append(model.predict(prediction_prepare))\n",
    "    "
   ]
  },
  {
   "cell_type": "code",
   "execution_count": null,
   "metadata": {},
   "outputs": [],
   "source": [
    "# Wizualizacja\n",
    "plt.plot(range(1,30),preds)\n",
    "plt.ylim(0,max(preds)*1.1)\n",
    "plt.title('Cena biletu w zależności od liczby dni do lotu')\n",
    "plt.show()"
   ]
  }
 ],
 "metadata": {
  "kernelspec": {
   "display_name": "Python 3",
   "language": "python",
   "name": "python3"
  },
  "language_info": {
   "codemirror_mode": {
    "name": "ipython",
    "version": 3
   },
   "file_extension": ".py",
   "mimetype": "text/x-python",
   "name": "python",
   "nbconvert_exporter": "python",
   "pygments_lexer": "ipython3",
   "version": "3.12.5"
  }
 },
 "nbformat": 4,
 "nbformat_minor": 2
}
